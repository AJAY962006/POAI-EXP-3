{
  "nbformat": 4,
  "nbformat_minor": 0,
  "metadata": {
    "colab": {
      "provenance": [],
      "authorship_tag": "ABX9TyOoEYp4iV5IRWwYyr0Uu36v",
      "include_colab_link": true
    },
    "kernelspec": {
      "name": "python3",
      "display_name": "Python 3"
    },
    "language_info": {
      "name": "python"
    }
  },
  "cells": [
    {
      "cell_type": "markdown",
      "metadata": {
        "id": "view-in-github",
        "colab_type": "text"
      },
      "source": [
        "<a href=\"https://colab.research.google.com/github/AJAY962006/POAI-EXP-3/blob/main/Untitled2.ipynb\" target=\"_parent\"><img src=\"https://colab.research.google.com/assets/colab-badge.svg\" alt=\"Open In Colab\"/></a>"
      ]
    },
    {
      "cell_type": "code",
      "execution_count": 1,
      "metadata": {
        "colab": {
          "base_uri": "https://localhost:8080/"
        },
        "id": "5d9lT2-JbT_9",
        "outputId": "b6cc3b40-d554-47d7-aa03-b8f5fca3b729"
      },
      "outputs": [
        {
          "output_type": "stream",
          "name": "stdout",
          "text": [
            "The optimal value is : 5\n"
          ]
        }
      ],
      "source": [
        "import math\n",
        "\n",
        "# Minimax function\n",
        "def minimax(depth, nodeIndex, isMaximizingPlayer, values, alpha, beta):\n",
        "    if depth == 3:\n",
        "        return values[nodeIndex]\n",
        "\n",
        "    if isMaximizingPlayer:\n",
        "        best = -math.inf\n",
        "        for i in range(2):\n",
        "            val = minimax(depth + 1, nodeIndex * 2 + i, False, values, alpha, beta)\n",
        "            best = max(best, val)\n",
        "            alpha = max(alpha, best)\n",
        "\n",
        "            # Alpha Beta Pruning\n",
        "            if beta <= alpha:\n",
        "                break\n",
        "        return best\n",
        "\n",
        "    else:\n",
        "        best = math.inf\n",
        "        for i in range(2):\n",
        "            val = minimax(depth + 1, nodeIndex * 2 + i, True, values, alpha, beta)\n",
        "            best = min(best, val)\n",
        "            beta = min(beta, best)\n",
        "\n",
        "            # Alpha Beta Pruning\n",
        "            if beta <= alpha:\n",
        "                break\n",
        "        return best\n",
        "\n",
        "# Driver Code\n",
        "if __name__ == \"__main__\":\n",
        "    values = [3, 5, 6, 9, 1, 2, 0, -1]  # Leaf nodes\n",
        "    print(\"The optimal value is :\", minimax(0, 0, True, values, -math.inf, math.inf))\n"
      ]
    }
  ]
}